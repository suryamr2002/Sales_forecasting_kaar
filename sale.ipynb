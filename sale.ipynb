{
 "cells": [
  {
   "cell_type": "code",
   "execution_count": 6,
   "metadata": {},
   "outputs": [
    {
     "data": {
      "text/html": [
       "<div>\n",
       "<style scoped>\n",
       "    .dataframe tbody tr th:only-of-type {\n",
       "        vertical-align: middle;\n",
       "    }\n",
       "\n",
       "    .dataframe tbody tr th {\n",
       "        vertical-align: top;\n",
       "    }\n",
       "\n",
       "    .dataframe thead th {\n",
       "        text-align: right;\n",
       "    }\n",
       "</style>\n",
       "<table border=\"1\" class=\"dataframe\">\n",
       "  <thead>\n",
       "    <tr style=\"text-align: right;\">\n",
       "      <th></th>\n",
       "      <th>Sales</th>\n",
       "    </tr>\n",
       "  </thead>\n",
       "  <tbody>\n",
       "    <tr>\n",
       "      <th>count</th>\n",
       "      <td>9800.000000</td>\n",
       "    </tr>\n",
       "    <tr>\n",
       "      <th>mean</th>\n",
       "      <td>230.769059</td>\n",
       "    </tr>\n",
       "    <tr>\n",
       "      <th>std</th>\n",
       "      <td>626.651875</td>\n",
       "    </tr>\n",
       "    <tr>\n",
       "      <th>min</th>\n",
       "      <td>0.444000</td>\n",
       "    </tr>\n",
       "    <tr>\n",
       "      <th>25%</th>\n",
       "      <td>17.248000</td>\n",
       "    </tr>\n",
       "    <tr>\n",
       "      <th>50%</th>\n",
       "      <td>54.490000</td>\n",
       "    </tr>\n",
       "    <tr>\n",
       "      <th>75%</th>\n",
       "      <td>210.605000</td>\n",
       "    </tr>\n",
       "    <tr>\n",
       "      <th>max</th>\n",
       "      <td>22638.480000</td>\n",
       "    </tr>\n",
       "  </tbody>\n",
       "</table>\n",
       "</div>"
      ],
      "text/plain": [
       "              Sales\n",
       "count   9800.000000\n",
       "mean     230.769059\n",
       "std      626.651875\n",
       "min        0.444000\n",
       "25%       17.248000\n",
       "50%       54.490000\n",
       "75%      210.605000\n",
       "max    22638.480000"
      ]
     },
     "execution_count": 6,
     "metadata": {},
     "output_type": "execute_result"
    }
   ],
   "source": [
    "\n",
    "import pandas as pd\n",
    "\n",
    "# Load the dataset\n",
    "df = pd.read_csv('sales.csv')\n",
    "\n",
    "\n",
    "\n",
    "# Drop irrelevant attributes\n",
    "df.drop(['Row ID','Product Name'], axis=1, inplace=True)\n",
    "\n",
    "# Check for missing values and outliers\n",
    "df.isnull().sum()\n",
    "df.describe()\n"
   ]
  },
  {
   "cell_type": "code",
   "execution_count": 7,
   "metadata": {},
   "outputs": [],
   "source": [
    "# Convert Order Date to datetime format\n",
    "df['Order Date'] = pd.to_datetime(df['Order Date'],format='%d/%m/%Y')\n",
    "\n",
    "# Create new attributes for month, quarter, and year\n",
    "df['Month'] = df['Order Date'].dt.month\n",
    "df['Quarter'] = df['Order Date'].dt.quarter\n",
    "df['Year'] = df['Order Date'].dt.year\n",
    "\n",
    "# Encode categorical attributes\n",
    "df['State Code'] = pd.factorize(df['State'])[0]\n",
    "df['Category Code'] = pd.factorize(df['Category'])[0]\n",
    "df['Sub-Category Code'] = pd.factorize(df['Sub-Category'])[0]\n",
    "\n",
    "# Drop the original categorical attributes\n",
    "df.drop(['Order Date', 'State', 'Category', 'Sub-Category'], axis=1, inplace=True)\n"
   ]
  },
  {
   "cell_type": "code",
   "execution_count": 8,
   "metadata": {},
   "outputs": [],
   "source": [
    "from sklearn.model_selection import train_test_split\n",
    "\n",
    "# Split the data into training and testing sets\n",
    "X_train, X_test, y_train, y_test = train_test_split(df.drop('Sales', axis=1), df['Sales'], test_size=0.3, random_state=42)\n"
   ]
  },
  {
   "cell_type": "code",
   "execution_count": 9,
   "metadata": {
    "scrolled": true
   },
   "outputs": [
    {
     "name": "stdout",
     "output_type": "stream",
     "text": [
      "Requirement already satisfied: scikit-learn in c:\\users\\surya\\anaconda3\\lib\\site-packages (1.2.2)\n",
      "Requirement already satisfied: threadpoolctl>=2.0.0 in c:\\users\\surya\\anaconda3\\lib\\site-packages (from scikit-learn) (2.2.0)\n",
      "Requirement already satisfied: numpy>=1.17.3 in c:\\users\\surya\\anaconda3\\lib\\site-packages (from scikit-learn) (1.23.5)\n",
      "Requirement already satisfied: scipy>=1.3.2 in c:\\users\\surya\\anaconda3\\lib\\site-packages (from scikit-learn) (1.10.0)\n",
      "Requirement already satisfied: joblib>=1.1.1 in c:\\users\\surya\\anaconda3\\lib\\site-packages (from scikit-learn) (1.1.1)\n",
      "LinearRegression: RMSE=782.43, R2=-0.00\n",
      "RandomForestRegressor: RMSE=757.33, R2=0.06\n",
      "GradientBoostingRegressor: RMSE=685.80, R2=0.23\n",
      "MLPRegressor: RMSE=784.17, R2=-0.01\n"
     ]
    }
   ],
   "source": [
    "! pip install -U scikit-learn\n",
    "\n",
    "from sklearn.linear_model import LinearRegression\n",
    "from sklearn.ensemble import RandomForestRegressor\n",
    "from sklearn.ensemble import GradientBoostingRegressor\n",
    "from sklearn.neural_network import MLPRegressor\n",
    "from sklearn.metrics import mean_squared_error, r2_score\n",
    "import numpy as np\n",
    "\n",
    "# Instantiate the regression models\n",
    "lr = LinearRegression()\n",
    "rf = RandomForestRegressor()\n",
    "gb = GradientBoostingRegressor()\n",
    "mlp = MLPRegressor()\n",
    "\n",
    "# Train and evaluate the models\n",
    "for model in [lr, rf, gb, mlp]:\n",
    "    model.fit(X_train, y_train)\n",
    "    y_pred = model.predict(X_test)\n",
    "    mse = mean_squared_error(y_test, y_pred)\n",
    "    rmse = np.sqrt(mse)\n",
    "    r2 = r2_score(y_test, y_pred)\n",
    "    print(f'{model.__class__.__name__}: RMSE={rmse:.2f}, R2={r2:.2f}')\n"
   ]
  },
  {
   "cell_type": "code",
   "execution_count": 10,
   "metadata": {},
   "outputs": [
    {
     "name": "stdout",
     "output_type": "stream",
     "text": [
      "Predicted sales for the future date: $53.52\n"
     ]
    }
   ],
   "source": [
    "# Create a new input for future sales prediction\n",
    "new_input = pd.DataFrame({'Month': [12], 'Quarter': [4], 'Year': [2022], 'State Code': [3], 'Category Code': [1], 'Sub-Category Code': [2]})\n",
    "\n",
    "# Use the trained model to predict the sales for the new input\n",
    "future_sales = gb.predict(new_input)\n",
    "\n",
    "print(f\"Predicted sales for the future date: ${future_sales[0]:.2f}\")\n"
   ]
  },
  {
   "cell_type": "code",
   "execution_count": 11,
   "metadata": {},
   "outputs": [
    {
     "name": "stdout",
     "output_type": "stream",
     "text": [
      "List of unique values:\n",
      "State Code: [0, 1, 2, 3, 4, 5, 6, 7, 8, 9, 10, 11, 12, 13, 14, 15, 16, 17, 18, 19, 20, 21, 22, 23, 24, 25, 26, 27, 28, 29, 30, 31, 32, 33, 34, 35, 36, 37, 38, 39, 40, 41, 42, 43, 44, 45, 46, 47, 48]\n",
      "Category Code: [0, 1, 2]\n",
      "Sub-Category Code: [0, 1, 2, 3, 4, 5, 6, 7, 8, 9, 10, 11, 12, 13, 14, 15, 16]\n"
     ]
    }
   ],
   "source": [
    "# Get unique values for State Code, Category Code, and Sub-Category Code\n",
    "states = df['State Code'].unique().tolist()\n",
    "categories = df['Category Code'].unique().tolist()\n",
    "sub_categories = df['Sub-Category Code'].unique().tolist()\n",
    "\n",
    "print(\"List of unique values:\")\n",
    "print(\"State Code:\", states)\n",
    "print(\"Category Code:\", categories)\n",
    "print(\"Sub-Category Code:\", sub_categories)\n"
   ]
  },
  {
   "cell_type": "code",
   "execution_count": 12,
   "metadata": {},
   "outputs": [
    {
     "name": "stdout",
     "output_type": "stream",
     "text": [
      "Predicted sales for 1/2022: $86.55\n",
      "Predicted sales for 2/2022: $61.99\n",
      "Predicted sales for 3/2022: $61.99\n",
      "Predicted sales for 4/2022: $59.96\n",
      "Predicted sales for 5/2022: $59.96\n",
      "Predicted sales for 6/2022: $59.96\n",
      "Predicted sales for 7/2022: $59.96\n",
      "Predicted sales for 8/2022: $74.51\n",
      "Predicted sales for 9/2022: $74.51\n",
      "Predicted sales for 10/2022: $74.51\n",
      "Predicted sales for 11/2022: $74.51\n",
      "Predicted sales for 12/2022: $74.51\n"
     ]
    }
   ],
   "source": [
    "# Define the months of interest\n",
    "months = range(1, 13)\n",
    "\n",
    "# Create an empty list to store the results\n",
    "sales_predictions = []\n",
    "\n",
    "# Loop over the months of interest\n",
    "for month in months:\n",
    "    # Create a new input data frame for the specific month\n",
    "    new_input = pd.DataFrame({'Month': [month], 'Quarter': [int((month-1)/3)+1], 'Year': [2022], 'State Code': [3], 'Category Code': [1], 'Sub-Category Code': [5]})\n",
    "\n",
    "    # Use the trained model to predict the sales for the new input\n",
    "    future_sales = gb.predict(new_input)\n",
    "\n",
    "    # Append the predicted sales for the specific month to the list of results\n",
    "    sales_predictions.append((month, future_sales[0]))\n",
    "\n",
    "# Print the predicted sales for each month of 2022\n",
    "for prediction in sales_predictions:\n",
    "    print(f\"Predicted sales for {prediction[0]}/2022: ${prediction[1]:.2f}\")\n"
   ]
  },
  {
   "cell_type": "code",
   "execution_count": 13,
   "metadata": {},
   "outputs": [],
   "source": [
    "import pickle\n",
    "\n",
    "# Save the model to a file\n",
    "with open('sales_prediction_model.pkl', 'wb') as f:\n",
    "    pickle.dump(gb, f)\n",
    "\n",
    "\n",
    "# Save the model as a pickle file\n",
    "# with open('model.pkl', 'wb') as file:\n",
    "#     pickle.dump(model, file)\n"
   ]
  }
 ],
 "metadata": {
  "kernelspec": {
   "display_name": "Python 3 (ipykernel)",
   "language": "python",
   "name": "python3"
  },
  "language_info": {
   "codemirror_mode": {
    "name": "ipython",
    "version": 3
   },
   "file_extension": ".py",
   "mimetype": "text/x-python",
   "name": "python",
   "nbconvert_exporter": "python",
   "pygments_lexer": "ipython3",
   "version": "3.10.9"
  }
 },
 "nbformat": 4,
 "nbformat_minor": 2
}
